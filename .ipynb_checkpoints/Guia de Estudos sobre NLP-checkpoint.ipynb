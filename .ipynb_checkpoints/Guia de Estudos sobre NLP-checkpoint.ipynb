{
 "cells": [
  {
   "cell_type": "markdown",
   "id": "sexual-tower",
   "metadata": {},
   "source": [
    "## Guia de Estudos sobre NLP"
   ]
  },
  {
   "cell_type": "markdown",
   "id": "consecutive-brooks",
   "metadata": {},
   "source": [
    "O que é NLP: \n",
    "Processamento de Linguagem Natural (do inglês Natural Language Processing - NLP) é uma subárea da IA que envolve programação de computadores  para processa um grande volume de dados de linguagem.  Envolve inúmeras tarefas que dividem a linguagem natural em elementos menores, a fim de compreender as relações entre esses elementos e como eles funcionam juntos. As tarefas comuns incluem análise, reconhecimento de fala, marcação de classes gramaticais e extração de informações. A PNL se concentra principalmente na conversão de texto em dados estruturados.\n",
    "\n",
    "O que é NLU:\n",
    "NLU de Natural Language Understanting.\n",
    "Um dos principais objetivos da NLU é ensinar as máquinas a interpretar e compreender a linguagem inserida por humanos. Tem como objetivo ensinar aos computadores o que significa um corpo de texto ou fala falada. A NLU aproveita algoritmos de IA para reconhecer atributos de linguagem, como sentimento, semântica, contexto e intenção. Ele permite que os computadores entendam as sutilezas e variações da linguagem. Por exemplo, as perguntas \"como está o tempo lá fora?\" e \"como está o tempo?\" ambos estão perguntando a mesma coisa. A pergunta \"como está o tempo lá fora?\" pode ser feito de centenas de maneiras. Com a NLU, os aplicativos de computador podem reconhecer as muitas variações nas quais os humanos dizem as mesmas coisas.\n",
    "\n",
    "NLP x NLU\n",
    "NLP é sobre o que foi dito, NLU sobre o que significou.\n",
    "NLP analisa o texto e a fala, focando primariamente na estrutura da linguagem. NLU permite que o computador consiga inferir a intenção da linguagem, mesmo quando a escrita ou a fala apresentem falhas.\n",
    "Se a necessidade é um chatbot simples que produz uma série de respostas programadas, apenas o NLP é necessário. Já se a necessidade é um chatbot inteligente que consiga usar o contexto, capaz de ter conversas naturais e sofisticadas com o usuário, também é necessário o uso da NLU"
   ]
  },
  {
   "cell_type": "markdown",
   "id": "tired-system",
   "metadata": {},
   "source": [
    "Actions: \n",
    "\n",
    "Detalhes de implementação de actions customizadas ver em [SDK Documentation](https://rasa.com/docs/action-server/running-action-server). \n",
    "Qualquer ação personalizada que é usada nos stories deve ser adicionada na seção de ações do domain. \n",
    "\n"
   ]
  }
 ],
 "metadata": {
  "kernelspec": {
   "display_name": "Python 3",
   "language": "python",
   "name": "python3"
  },
  "language_info": {
   "codemirror_mode": {
    "name": "ipython",
    "version": 3
   },
   "file_extension": ".py",
   "mimetype": "text/x-python",
   "name": "python",
   "nbconvert_exporter": "python",
   "pygments_lexer": "ipython3",
   "version": "3.8.5"
  }
 },
 "nbformat": 4,
 "nbformat_minor": 5
}
